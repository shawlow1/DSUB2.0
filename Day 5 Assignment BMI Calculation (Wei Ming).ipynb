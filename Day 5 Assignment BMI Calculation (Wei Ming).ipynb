{
 "cells": [
  {
   "cell_type": "code",
   "execution_count": 42,
   "id": "c513ca84",
   "metadata": {},
   "outputs": [],
   "source": [
    "# BMI calculation\n",
    "# BMI calculate using kg and m \n",
    "\n",
    "# Store the Adults details using dictionary\n",
    "# Reference: https://www.w3schools.com/python/python_dictionaries.asp\n",
    "\n",
    "AdultA = {\n",
    "    \"Gender\": \"Male\",\n",
    "    \"height\": 168,\n",
    "    \"weight\": 58\n",
    "}\n",
    "\n",
    "AdultB = {\n",
    "    \"Gender\": \"Female\",\n",
    "    \"height\": 157,\n",
    "    \"weight\": 42\n",
    "}\n",
    "\n",
    "AdultC = {\n",
    "    \"Gender\": \"Male\",\n",
    "    \"height\": 172,\n",
    "    \"weight\": 95\n",
    "}"
   ]
  },
  {
   "cell_type": "code",
   "execution_count": 51,
   "id": "4b46542d",
   "metadata": {},
   "outputs": [
    {
     "name": "stdout",
     "output_type": "stream",
     "text": [
      "{'Gender': 'Male', 'height': 168, 'weight': 58} BMI equals 20.549886621315196\n",
      "{'Gender': 'Female', 'height': 157, 'weight': 42} BMI equals 17.03923080043815\n",
      "{'Gender': 'Male', 'height': 172, 'weight': 95} BMI equals 32.11195240670633\n"
     ]
    }
   ],
   "source": [
    "# Store all Adults in a list\n",
    "# Reference: https://www.w3schools.com/python/python_lists.asp\n",
    "# Use Operator of Power of two\n",
    "# Reference: https://www.w3schools.com/python/python_operators.asp\n",
    "\n",
    "Adults = [AdultA, AdultB, AdultC]\n",
    "\n",
    "# BMI = Weight / Height ^2\n",
    "\n",
    "for a in Adults :\n",
    "    print(f'{a} BMI equals { a[\"weight\"] / (a[\"height\"] / 100)**2}') \n",
    "    #print(f\"{a['weight']}\")\n"
   ]
  },
  {
   "cell_type": "code",
   "execution_count": 50,
   "id": "80b51d2e",
   "metadata": {},
   "outputs": [],
   "source": [
    "# Learning for '' & \"\"\n",
    "name = \"Wei Ming's house is big\""
   ]
  },
  {
   "cell_type": "code",
   "execution_count": null,
   "id": "4824b63c",
   "metadata": {},
   "outputs": [],
   "source": []
  },
  {
   "cell_type": "code",
   "execution_count": null,
   "id": "b688666f",
   "metadata": {},
   "outputs": [],
   "source": []
  }
 ],
 "metadata": {
  "kernelspec": {
   "display_name": "Python 3",
   "language": "python",
   "name": "python3"
  },
  "language_info": {
   "codemirror_mode": {
    "name": "ipython",
    "version": 3
   },
   "file_extension": ".py",
   "mimetype": "text/x-python",
   "name": "python",
   "nbconvert_exporter": "python",
   "pygments_lexer": "ipython3",
   "version": "3.8.8"
  }
 },
 "nbformat": 4,
 "nbformat_minor": 5
}
